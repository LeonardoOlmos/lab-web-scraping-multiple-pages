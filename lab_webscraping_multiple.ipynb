{
 "cells": [
  {
   "cell_type": "markdown",
   "id": "8927ccc8-e747-46d6-ae10-414a7e15b74d",
   "metadata": {},
   "source": [
    "# Lab | Web scraping multiple pages"
   ]
  },
  {
   "cell_type": "code",
   "execution_count": 1,
   "id": "3abbe91d-9636-48c7-9c9d-13893daec67f",
   "metadata": {},
   "outputs": [],
   "source": [
    "import pandas as pd\n",
    "import numpy as np \n",
    "import requests\n",
    "import time\n",
    "import re\n",
    "\n",
    "from bs4 import BeautifulSoup"
   ]
  },
  {
   "cell_type": "code",
   "execution_count": 2,
   "id": "6d2aacd0-4281-4138-8f96-fd8e75769e6b",
   "metadata": {},
   "outputs": [],
   "source": [
    "def get_bs_object(url):\n",
    "    soup = None\n",
    "    \n",
    "    response = requests.get(url)\n",
    "    \n",
    "    if (response.status_code < 300):\n",
    "        soup = BeautifulSoup(response.content, \"html.parser\");\n",
    "    \n",
    "    return soup"
   ]
  },
  {
   "cell_type": "markdown",
   "id": "30c3fbf9-9655-444c-8cc3-f2569891f098",
   "metadata": {},
   "source": [
    "## Get songs of the century"
   ]
  },
  {
   "cell_type": "code",
   "execution_count": 3,
   "id": "78fddcde-fc9c-4767-8690-23b3093c10ff",
   "metadata": {},
   "outputs": [],
   "source": [
    "url = \"https://en.wikipedia.org/wiki/Songs_of_the_Century\""
   ]
  },
  {
   "cell_type": "code",
   "execution_count": 4,
   "id": "5c79a9cb-5ea9-4cbb-b5ff-49833e07c37b",
   "metadata": {},
   "outputs": [],
   "source": [
    "soup = get_bs_object(url)"
   ]
  },
  {
   "cell_type": "code",
   "execution_count": 5,
   "id": "74c1f133-33f8-4485-884c-e3b6103c2e33",
   "metadata": {},
   "outputs": [],
   "source": [
    "#soup.prettify()"
   ]
  },
  {
   "cell_type": "code",
   "execution_count": 6,
   "id": "23ee489c-a2f1-4e5b-aa2e-7a7f5e2cc366",
   "metadata": {},
   "outputs": [],
   "source": [
    "bs_tags = soup.select(\"td\")"
   ]
  },
  {
   "cell_type": "code",
   "execution_count": 7,
   "id": "4d250153-7009-44df-a13e-5500dbc45f02",
   "metadata": {},
   "outputs": [],
   "source": [
    "tags = []\n",
    "\n",
    "for element in bs_tags:\n",
    "    tags.append(element.get_text())"
   ]
  },
  {
   "cell_type": "code",
   "execution_count": 8,
   "id": "7f59c003-3aec-40b7-a8e2-66273d34c47d",
   "metadata": {
    "scrolled": true,
    "tags": []
   },
   "outputs": [
    {
     "ename": "NameError",
     "evalue": "name 'songs' is not defined",
     "output_type": "error",
     "traceback": [
      "\u001b[1;31m---------------------------------------------------------------------------\u001b[0m",
      "\u001b[1;31mNameError\u001b[0m                                 Traceback (most recent call last)",
      "Cell \u001b[1;32mIn[8], line 1\u001b[0m\n\u001b[1;32m----> 1\u001b[0m \u001b[43msongs\u001b[49m\n",
      "\u001b[1;31mNameError\u001b[0m: name 'songs' is not defined"
     ]
    }
   ],
   "source": [
    "tags"
   ]
  },
  {
   "cell_type": "code",
   "execution_count": null,
   "id": "dda88335-b9b7-4185-9629-ad6a4455f3b1",
   "metadata": {},
   "outputs": [],
   "source": [
    "pattern_numbers = r'[^\\d+]'\n",
    "\n",
    "list_songs = []\n",
    "\n",
    "for song in tags:\n",
    "    if re.findall(pattern_numbers, song):\n",
    "        list_songs.append(song)"
   ]
  },
  {
   "cell_type": "code",
   "execution_count": null,
   "id": "4e2ad50c-9b1d-45a6-be02-ef65349e7278",
   "metadata": {},
   "outputs": [],
   "source": [
    "pattern_date = r'\\d{4}\\n'"
   ]
  },
  {
   "cell_type": "code",
   "execution_count": null,
   "id": "1cb10707-5a33-482a-9245-7724bba083a3",
   "metadata": {},
   "outputs": [],
   "source": [
    "list_songs = [song for song in list_songs if not re.search(pattern_date, song)]"
   ]
  },
  {
   "cell_type": "code",
   "execution_count": null,
   "id": "bc331490-b4aa-4fbe-9def-2134a4d67921",
   "metadata": {
    "scrolled": true,
    "tags": []
   },
   "outputs": [],
   "source": [
    "list_songs"
   ]
  },
  {
   "cell_type": "code",
   "execution_count": null,
   "id": "fe138c63-1dfc-46c0-a95c-dccc8d39caa0",
   "metadata": {},
   "outputs": [],
   "source": [
    "list_songs = [song.replace(\"'\", '').replace('\"', \"\") for song in list_songs]"
   ]
  },
  {
   "cell_type": "code",
   "execution_count": null,
   "id": "098165d4-c00c-4b19-8582-b25f7d3c4c9d",
   "metadata": {},
   "outputs": [],
   "source": [
    "songs = [song for song in list_songs[0::2]]"
   ]
  },
  {
   "cell_type": "code",
   "execution_count": null,
   "id": "5d0ca412-3714-4eba-ad75-36a34cea16d9",
   "metadata": {
    "scrolled": true,
    "tags": []
   },
   "outputs": [],
   "source": [
    "songs"
   ]
  },
  {
   "cell_type": "code",
   "execution_count": null,
   "id": "185a62f6-464e-45db-a930-3377d519e499",
   "metadata": {},
   "outputs": [],
   "source": [
    "artist = [artist for artist in list_songs[1::2]]"
   ]
  },
  {
   "cell_type": "code",
   "execution_count": null,
   "id": "79913e69-ae70-4891-b056-c79e0ad0ef34",
   "metadata": {},
   "outputs": [],
   "source": [
    "artist"
   ]
  },
  {
   "cell_type": "code",
   "execution_count": null,
   "id": "64329f27-1770-4e8d-9331-826a0babefae",
   "metadata": {},
   "outputs": [],
   "source": [
    "century_songs = pd.DataFrame(list(zip(songs, artist)), columns=['Song', 'Artist'])"
   ]
  },
  {
   "cell_type": "code",
   "execution_count": null,
   "id": "b6df456c-c3e9-43e6-8c37-a07f93056f0f",
   "metadata": {
    "tags": []
   },
   "outputs": [],
   "source": [
    "century_songs"
   ]
  },
  {
   "cell_type": "code",
   "execution_count": null,
   "id": "24564636-d234-4a16-9e76-c103febc771c",
   "metadata": {},
   "outputs": [],
   "source": [
    "pattern = r'\\(.*?\\)'"
   ]
  },
  {
   "cell_type": "code",
   "execution_count": null,
   "id": "a8ddb5be-4208-4854-bab5-6de718cbdf37",
   "metadata": {},
   "outputs": [],
   "source": [
    "century_songs['Song'] = century_songs['Song'].apply(lambda x: re.sub(pattern, '', x))"
   ]
  },
  {
   "cell_type": "code",
   "execution_count": null,
   "id": "67e23820-9577-4ffa-bba3-ad29822626a9",
   "metadata": {},
   "outputs": [],
   "source": [
    "century_songs"
   ]
  },
  {
   "cell_type": "markdown",
   "id": "0d42af63-deaf-43bf-bd91-83a15cf0efd9",
   "metadata": {},
   "source": [
    "------------"
   ]
  },
  {
   "cell_type": "markdown",
   "id": "dee5774f-43cc-4e1e-a2e4-e80bb805f7fb",
   "metadata": {},
   "source": [
    "## Get singles of 2022"
   ]
  },
  {
   "cell_type": "code",
   "execution_count": null,
   "id": "2f5e75ac-db79-4e20-bbb0-c9c59700b2d6",
   "metadata": {},
   "outputs": [],
   "source": [
    "request_url = \"https://en.wikipedia.org/wiki/Billboard_Year-End_Hot_100_singles_of_2022\""
   ]
  },
  {
   "cell_type": "code",
   "execution_count": null,
   "id": "e2911566-ccfb-49ae-ab82-2b64d1b7c351",
   "metadata": {},
   "outputs": [],
   "source": [
    "soup = get_bs_object(request_url)"
   ]
  },
  {
   "cell_type": "code",
   "execution_count": null,
   "id": "7782a498-1494-45e0-89bc-3202df7f3b23",
   "metadata": {
    "scrolled": true,
    "tags": []
   },
   "outputs": [],
   "source": [
    "soup"
   ]
  },
  {
   "cell_type": "code",
   "execution_count": null,
   "id": "7c9ff7dc-261f-470d-b83d-b3da607fa83d",
   "metadata": {},
   "outputs": [],
   "source": [
    "song_tags = soup.find_all(\"tbody\")"
   ]
  },
  {
   "cell_type": "code",
   "execution_count": null,
   "id": "1ba0b6e9-35dd-46a5-9d24-83f79e8e8b0f",
   "metadata": {
    "scrolled": true,
    "tags": []
   },
   "outputs": [],
   "source": [
    "song_tags"
   ]
  },
  {
   "cell_type": "code",
   "execution_count": null,
   "id": "28e6367d-5980-42c2-939f-db94355bf2ea",
   "metadata": {},
   "outputs": [],
   "source": [
    "table = song_tags[0]"
   ]
  },
  {
   "cell_type": "code",
   "execution_count": null,
   "id": "cf06f7c8-f459-424a-892b-5eb12f8a5769",
   "metadata": {
    "scrolled": true,
    "tags": []
   },
   "outputs": [],
   "source": [
    "table"
   ]
  },
  {
   "cell_type": "code",
   "execution_count": null,
   "id": "9142da04-7946-401b-9fbb-1e49877d3965",
   "metadata": {},
   "outputs": [],
   "source": [
    "table = table.find_all('td')"
   ]
  },
  {
   "cell_type": "code",
   "execution_count": null,
   "id": "ca1867c3-af41-4565-a184-a635b46aea1d",
   "metadata": {
    "scrolled": true,
    "tags": []
   },
   "outputs": [],
   "source": [
    "table"
   ]
  },
  {
   "cell_type": "code",
   "execution_count": null,
   "id": "a1f780ef-9f41-494c-a83e-512e511f9e09",
   "metadata": {},
   "outputs": [],
   "source": [
    "test_table = [label.get_text() for label in table]"
   ]
  },
  {
   "cell_type": "code",
   "execution_count": null,
   "id": "2f665501-388c-4ebb-a685-e20cac38ebb6",
   "metadata": {
    "scrolled": true,
    "tags": []
   },
   "outputs": [],
   "source": [
    "test_table"
   ]
  },
  {
   "cell_type": "code",
   "execution_count": null,
   "id": "aa8c4172-3277-4d4f-9f9b-6b6e94292a2b",
   "metadata": {},
   "outputs": [],
   "source": [
    "pattern = r'\\d{1}\\n'"
   ]
  },
  {
   "cell_type": "code",
   "execution_count": null,
   "id": "f9bf6508-4720-47b1-bd36-81b2b1a6ffde",
   "metadata": {},
   "outputs": [],
   "source": [
    "test_table = [row for row in test_table if not re.search(pattern, row)]"
   ]
  },
  {
   "cell_type": "code",
   "execution_count": null,
   "id": "adc455aa-8663-441b-a55a-6f4249b9e868",
   "metadata": {},
   "outputs": [],
   "source": [
    "test_table = [row.replace(\"'\", \"\").replace('\"', '').replace(\"\\n\", \"\") for row in test_table]"
   ]
  },
  {
   "cell_type": "code",
   "execution_count": null,
   "id": "a8e712db-755c-4aa6-9398-356765fd0cb8",
   "metadata": {
    "scrolled": true,
    "tags": []
   },
   "outputs": [],
   "source": [
    "test_table"
   ]
  },
  {
   "cell_type": "code",
   "execution_count": null,
   "id": "e3ead770-b5de-4308-93a3-66fe03429400",
   "metadata": {},
   "outputs": [],
   "source": [
    "pop_artists = test_table[1::2]"
   ]
  },
  {
   "cell_type": "code",
   "execution_count": null,
   "id": "61176450-7391-4073-b469-b721744d0534",
   "metadata": {},
   "outputs": [],
   "source": [
    "pop_songs = test_table[0::2]"
   ]
  },
  {
   "cell_type": "code",
   "execution_count": null,
   "id": "d2026b2a-6953-494e-9a61-ba35fee17fb0",
   "metadata": {},
   "outputs": [],
   "source": [
    "pop_songs_2022_df = pd.DataFrame(list(zip(pop_artists, pop_songs)), columns = ['Artist', 'Song'])"
   ]
  },
  {
   "cell_type": "code",
   "execution_count": null,
   "id": "d4d425cd-b5e5-4540-b0d6-fe3244a43f7b",
   "metadata": {},
   "outputs": [],
   "source": [
    "-------------------------------------"
   ]
  },
  {
   "cell_type": "code",
   "execution_count": null,
   "id": "0aa02036-0501-4314-b194-1c3c81f10558",
   "metadata": {},
   "outputs": [],
   "source": [
    "pop_songs_2022_df.head()"
   ]
  },
  {
   "cell_type": "code",
   "execution_count": null,
   "id": "09278cc0-df36-48c1-906c-718d8b952d01",
   "metadata": {},
   "outputs": [],
   "source": [
    "century_songs.head()"
   ]
  }
 ],
 "metadata": {
  "kernelspec": {
   "display_name": "ironhack",
   "language": "python",
   "name": "ironhack"
  },
  "language_info": {
   "codemirror_mode": {
    "name": "ipython",
    "version": 3
   },
   "file_extension": ".py",
   "mimetype": "text/x-python",
   "name": "python",
   "nbconvert_exporter": "python",
   "pygments_lexer": "ipython3",
   "version": "3.9.2"
  }
 },
 "nbformat": 4,
 "nbformat_minor": 5
}
